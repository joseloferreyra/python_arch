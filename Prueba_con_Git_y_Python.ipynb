{
  "nbformat": 4,
  "nbformat_minor": 0,
  "metadata": {
    "colab": {
      "provenance": [],
      "authorship_tag": "ABX9TyMj3Lt04G8FmqmZoAsfGyiP",
      "include_colab_link": true
    },
    "kernelspec": {
      "name": "python3",
      "display_name": "Python 3"
    },
    "language_info": {
      "name": "python"
    }
  },
  "cells": [
    {
      "cell_type": "markdown",
      "metadata": {
        "id": "view-in-github",
        "colab_type": "text"
      },
      "source": [
        "<a href=\"https://colab.research.google.com/github/joseloferreyra/python_arch/blob/main/Prueba_con_Git_y_Python.ipynb\" target=\"_parent\"><img src=\"https://colab.research.google.com/assets/colab-badge.svg\" alt=\"Open In Colab\"/></a>"
      ]
    },
    {
      "cell_type": "code",
      "execution_count": null,
      "metadata": {
        "colab": {
          "base_uri": "https://localhost:8080/"
        },
        "id": "MunlzJ5SoHpW",
        "outputId": "bc387842-7979-4e20-ae1c-50b4f4c59e38"
      },
      "outputs": [
        {
          "output_type": "stream",
          "name": "stdout",
          "text": [
            "fatal: destination path 'python_arch' already exists and is not an empty directory.\n"
          ]
        }
      ],
      "source": [
        "!git clone https://github.com/joseloferreyra/python_arch.git"
      ]
    },
    {
      "cell_type": "code",
      "source": [
        "%pycat python_arch/script1.py\n",
        "\n"
      ],
      "metadata": {
        "id": "NPGCGEF2q5gr"
      },
      "execution_count": null,
      "outputs": []
    },
    {
      "cell_type": "code",
      "source": [
        "import csv\n",
        "\n",
        "# Función para leer datos desde un archivo CSV\n",
        "def leer_datos_csv(nombre_archivo):\n",
        "    datos = []\n",
        "    with open(nombre_archivo, mode='r', encoding='utf-8') as archivo_csv:\n",
        "        lector_csv = csv.DictReader(archivo_csv)\n",
        "        for fila in lector_csv:\n",
        "            # Convertir la edad a un entero\n",
        "            fila['Edad'] = int(fila['Edad'])\n",
        "            datos.append(fila)\n",
        "    return datos\n",
        "\n",
        "# Función para imprimir todos los datos\n",
        "def imprimir_datos(datos):\n",
        "    for fila in datos:\n",
        "        print(f\"Nombre: {fila['Nombre']}, Apellido: {fila['Apellido']}, Edad: {fila['Edad']}, Departamento: {fila['Departamento']}\")\n",
        "\n",
        "# Función para filtrar por departamento\n",
        "def filtrar_por_departamento(datos, departamento):\n",
        "    filtrados = [fila for fila in datos if fila['Departamento'] == departamento]\n",
        "    return filtrados\n",
        "\n",
        "# Función para encontrar el empleado más joven\n",
        "def encontrar_empleado_mas_joven(datos):\n",
        "    return min(datos, key=lambda x: x['Edad'])\n",
        "\n",
        "# Función para calcular la edad promedio\n",
        "def edad_promedio(datos):\n",
        "    total_edades = sum(empleado['Edad'] for empleado in datos)\n",
        "    return total_edades / len(datos)\n",
        "\n",
        "# Función para encontrar empleados por apellido\n",
        "def encontrar_empleados_por_apellido(datos, apellido):\n",
        "    return [empleado for empleado in datos if empleado['Apellido'].lower() == apellido.lower()]\n",
        "\n",
        "# Nombre del archivo CSV\n",
        "nombre_archivo = 'python_arch/empleados.csv'\n",
        "\n",
        "# Leer datos del archivo CSV\n",
        "datos = leer_datos_csv(nombre_archivo)\n",
        "\n",
        "# Imprimir todos los datos\n",
        "print(\"Todos los empleados:\")\n",
        "imprimir_datos(datos)\n",
        "\n",
        "# Filtrar empleados del departamento IT\n",
        "print(\"\\nEmpleados en IT:\")\n",
        "empleados_it = filtrar_por_departamento(datos, 'IT')\n",
        "imprimir_datos(empleados_it)\n",
        "\n",
        "# Encontrar el empleado más joven\n",
        "empleado_mas_joven = encontrar_empleado_mas_joven(datos)\n",
        "print(f\"\\nEl empleado más joven es: {empleado_mas_joven['Nombre']} {empleado_mas_joven['Apellido']}, Edad: {empleado_mas_joven['Edad']}\")\n",
        "\n",
        "# Calcular la edad promedio\n",
        "promedio_edad = edad_promedio(datos)\n",
        "print(f\"\\nLa edad promedio de los empleados es: {promedio_edad:.2f}\")\n",
        "\n",
        "# Buscar empleados por apellido\n",
        "apellido_busqueda = \"Garcia\"\n",
        "empleados_encontrados = encontrar_empleados_por_apellido(datos, apellido_busqueda)\n",
        "print(f\"\\nEmpleados con el apellido {apellido_busqueda}:\")\n",
        "imprimir_datos(empleados_encontrados)"
      ],
      "metadata": {
        "colab": {
          "base_uri": "https://localhost:8080/"
        },
        "id": "bWoshi3GsCNp",
        "outputId": "3405c11c-7601-41f5-a183-258ecc42259c"
      },
      "execution_count": null,
      "outputs": [
        {
          "output_type": "stream",
          "name": "stdout",
          "text": [
            "Todos los empleados:\n",
            "Nombre: John, Apellido: Doe, Edad: 28, Departamento: IT\n",
            "Nombre: Jane, Apellido: Smith, Edad: 34, Departamento: HR\n",
            "Nombre: Michael, Apellido: Brown, Edad: 45, Departamento: Finance\n",
            "Nombre: Emily, Apellido: Davis, Edad: 22, Departamento: Marketing\n",
            "Nombre: Robert, Apellido: Johnson, Edad: 38, Departamento: IT\n",
            "Nombre: Linda, Apellido: Martinez, Edad: 29, Departamento: HR\n",
            "Nombre: William, Apellido: Garcia, Edad: 42, Departamento: Finance\n",
            "Nombre: Sophia, Apellido: Miller, Edad: 25, Departamento: Marketing\n",
            "\n",
            "Empleados en IT:\n",
            "Nombre: John, Apellido: Doe, Edad: 28, Departamento: IT\n",
            "Nombre: Robert, Apellido: Johnson, Edad: 38, Departamento: IT\n",
            "\n",
            "El empleado más joven es: Emily Davis, Edad: 22\n",
            "\n",
            "La edad promedio de los empleados es: 32.88\n",
            "\n",
            "Empleados con el apellido Garcia:\n",
            "Nombre: William, Apellido: Garcia, Edad: 42, Departamento: Finance\n"
          ]
        }
      ]
    }
  ]
}